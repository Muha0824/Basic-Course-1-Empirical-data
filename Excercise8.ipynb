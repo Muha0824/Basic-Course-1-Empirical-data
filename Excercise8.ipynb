{
 "cells": [
  {
   "cell_type": "markdown",
   "id": "77d0cd38",
   "metadata": {},
   "source": [
    "# Exercise 8.1: Dice rolls and coin flips"
   ]
  },
  {
   "cell_type": "markdown",
   "id": "2c80e089",
   "metadata": {},
   "source": [
    "\n",
    "## Peter throws one die.\n",
    "\n",
    "### 1. What is the chance operation? What are the possible outcomes? For each outcome, what is the associated probability?\n",
    "\n",
    "- Chance operation: rolling a fair six-sided die.  \n",
    "- Possible outcomes: {1, 2, 3, 4, 5, 6}.  \n",
    "- Probability of each outcome:  \n",
    "  $$P(\\text{any number}) = \\frac{1}{6} \\approx 0.17$$\n",
    "\n",
    "---\n",
    "\n",
    "### 2. What is the probability that Peter does not throw a 6?\n",
    "\n",
    "$$P(\\text{not 6}) = \\frac{5}{6} \\approx 0.83$$\n",
    "\n",
    "---\n",
    "\n",
    "### 3. Look at Peter’s experience in another way.  \n",
    "He can throw a 6, in which case he **wins**, or he can throw something else, in which case he **loses**.  \n",
    "This gives us two possible outcomes: Win (W) or Lose (L).\n",
    "\n",
    "- $ P(W) = \\frac{1}{6} \\approx 0.17 $\n",
    "- $ P(L) = \\frac{5}{6} \\approx 0.83 $\n",
    "\n",
    "\n",
    "---\n",
    "\n",
    "## Peter now throws two dice.\n",
    "\n",
    "### 4. What are the underlying chance operations? Draw the probability tree.\n",
    "\n",
    "- Each die has 6 outcomes, each with probability $(\\frac{1}{6})$.  \n",
    "- For two dice, the sample space has $(6 \\times 6 = 36)$ equally likely outcomes.  \n",
    "- Each outcome has probability $\\frac{1}{36}$.\n",
    "\n",
    "*(See notes for full probability tree.)*\n",
    "\n",
    "---\n",
    "\n",
    "### 5. What is the probability that Peter throws:\n",
    "\n",
    "**(a) No 6**\n",
    "\n",
    "$$P(\\text{no 6}) = \\frac{5}{6}\\times\\frac{5}{6} = \\frac{25}{36} \\approx 0.694$$\n",
    "\n",
    "---\n",
    "\n",
    "**(b) Exactly 1 and 6**\n",
    "\n",
    "Favorable outcomes: (1,6) or (6,1).\n",
    "\n",
    "$$P(\\text{1 and 6}) = \\frac{2}{36} = \\frac{1}{18} \\approx 0.056$$\n",
    "\n",
    "---\n",
    "\n",
    "**(c) Exactly two 6s**\n",
    "\n",
    "$$P(\\text{two 6s}) = \\frac{1}{6}\\times\\frac{1}{6} = \\frac{1}{36} \\approx 0.028$$\n",
    "\n",
    "---\n",
    "\n",
    "## Tom flips 3 coins.\n",
    "\n",
    "### 7. What is the probability that he gets at least one head?\n",
    "\n",
    "- Probability of no heads (all tails):  \n",
    "  $$P(\\text{TTT}) = \\frac{1}{2}\\times\\frac{1}{2}\\times\\frac{1}{2} = \\frac{1}{8} = 0.125$$\n",
    "\n",
    "- Therefore, probability of at least one head:  \n",
    "  $$P(\\text{at least one head}) = 1 - \\frac{1}{8} = \\frac{7}{8} = 0.875$$\n"
   ]
  },
  {
   "cell_type": "markdown",
   "id": "f67312c5",
   "metadata": {},
   "source": [
    "# Exercise 8.2: Independence of events"
   ]
  },
  {
   "cell_type": "markdown",
   "id": "f40b60c4",
   "metadata": {},
   "source": [
    "In the following exercise, we are considering the chance operation of picking a randomly\n",
    "chosen person from a study population. We think of two events E1={The person smokes}\n",
    "and E2 = {The person has high income}. You have to find out whether the two events\n",
    "are independent. In a study of the relationship between health risk and income, a large\n",
    "group of people living in Massachusetts were asked a series of questions. Some of their\n",
    "answers are shown Table 8.1\n",
    "\n",
    "---------\n",
    "### 1. What is the probability that someone in this study smokes?\n",
    "\n",
    "Their is 1213 participants who smokes. And their is in total 6549 people in this study. \n",
    "\n",
    "$$ \\frac{1213}{6549} \\approx 0.185 $$\n",
    "\n",
    "### 2. If we only look at persons with high income, then what is the probability that the person smokes\n",
    "\n",
    "$$ P(smokes | high income) = \\frac{P(\\text{Smokers AND High Income})}{P(\\text{High Income})}$$\n",
    "\n",
    "Which just means : \n",
    "\n",
    "$$\\frac{247}{2115}\\approx 0.118 $$\n",
    "\n",
    "### 3. Is being a smoker independent of having a high income? Why or why not?\n",
    "\n",
    "Smoking and income levels is not dependent variables. As,being a smoker doesn't change the probability of the income levels and vice versa. "
   ]
  },
  {
   "cell_type": "markdown",
   "id": "b4b5571e",
   "metadata": {},
   "source": [
    "# Exercise 8.3: Disease inherited by a sex-linked gene"
   ]
  },
  {
   "cell_type": "markdown",
   "id": "c15bdf84",
   "metadata": {},
   "source": [
    "Suppose that a disease is inherited by a sex-linked gene, so that a female offspring has\n",
    "50% chance of inheriting the disease while male offspring do not inherit the disease. 51.3% of all births are male. A couple where the woman carries the disease-gene has a child.\n",
    "\n",
    "-------\n",
    "### 1. What is the probability that their child carries the disease-gene?\n",
    "As, we don't know the gender, and thus we can't estimate more precisly by the gender. We know that their is 51.3\\% male births. \n",
    "\n",
    "$$51.3\\% - 100\\% = 48.7\\%$$\n",
    "\n",
    "And we know that male can't have this disease-gene. So, now of thoose 48.7\\% female. They have 50\\% chance of having the disease-gene. Which can be written as \n",
    "\n",
    "$$0.487 \\times 0.5 \\approx 0.24 $$\n",
    "\n",
    "So their is a approx.**24\\% chance of the child carrying the disease-gene**\n",
    "\n",
    "### 2. What are the chance operations? What are the possible outcomes?\n",
    "So, the possible outcomes is either the child is male or female, but that comes with some chance operations, like their is more male births than female, and then we need to consider that male can't get this disease-gene, and female have 50% of getting the disease-gene\n",
    "\n",
    "###  3. Make a probability tree and use it to answer the question: What is the probability that a randomly chosen child will inherit the disease? Assume that 3% of women carry the disease-gene.\n",
    "\n",
    "*(Check the notebook)*"
   ]
  }
 ],
 "metadata": {
  "kernelspec": {
   "display_name": "base",
   "language": "python",
   "name": "python3"
  },
  "language_info": {
   "codemirror_mode": {
    "name": "ipython",
    "version": 3
   },
   "file_extension": ".py",
   "mimetype": "text/x-python",
   "name": "python",
   "nbconvert_exporter": "python",
   "pygments_lexer": "ipython3",
   "version": "3.13.5"
  }
 },
 "nbformat": 4,
 "nbformat_minor": 5
}
