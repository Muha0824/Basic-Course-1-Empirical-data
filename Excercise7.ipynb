{
 "cells": [
  {
   "cell_type": "code",
   "execution_count": 76,
   "id": "0eccf587",
   "metadata": {},
   "outputs": [],
   "source": [
    "# All the necesary libraies \n",
    "import pandas as pd\n",
    "import matplotlib.pyplot as plt"
   ]
  },
  {
   "cell_type": "markdown",
   "id": "56a75c69",
   "metadata": {},
   "source": [
    "# Exercise 7.1: The bias of a sample"
   ]
  },
  {
   "cell_type": "code",
   "execution_count": 77,
   "id": "cd8df732",
   "metadata": {},
   "outputs": [
    {
     "data": {
      "text/html": [
       "<div>\n",
       "<style scoped>\n",
       "    .dataframe tbody tr th:only-of-type {\n",
       "        vertical-align: middle;\n",
       "    }\n",
       "\n",
       "    .dataframe tbody tr th {\n",
       "        vertical-align: top;\n",
       "    }\n",
       "\n",
       "    .dataframe thead th {\n",
       "        text-align: right;\n",
       "    }\n",
       "</style>\n",
       "<table border=\"1\" class=\"dataframe\">\n",
       "  <thead>\n",
       "    <tr style=\"text-align: right;\">\n",
       "      <th></th>\n",
       "      <th>0</th>\n",
       "    </tr>\n",
       "  </thead>\n",
       "  <tbody>\n",
       "    <tr>\n",
       "      <th>43</th>\n",
       "      <td>43</td>\n",
       "    </tr>\n",
       "    <tr>\n",
       "      <th>83</th>\n",
       "      <td>83</td>\n",
       "    </tr>\n",
       "    <tr>\n",
       "      <th>16</th>\n",
       "      <td>16</td>\n",
       "    </tr>\n",
       "    <tr>\n",
       "      <th>55</th>\n",
       "      <td>55</td>\n",
       "    </tr>\n",
       "    <tr>\n",
       "      <th>56</th>\n",
       "      <td>56</td>\n",
       "    </tr>\n",
       "    <tr>\n",
       "      <th>28</th>\n",
       "      <td>28</td>\n",
       "    </tr>\n",
       "    <tr>\n",
       "      <th>8</th>\n",
       "      <td>8</td>\n",
       "    </tr>\n",
       "    <tr>\n",
       "      <th>26</th>\n",
       "      <td>26</td>\n",
       "    </tr>\n",
       "    <tr>\n",
       "      <th>96</th>\n",
       "      <td>96</td>\n",
       "    </tr>\n",
       "    <tr>\n",
       "      <th>67</th>\n",
       "      <td>67</td>\n",
       "    </tr>\n",
       "  </tbody>\n",
       "</table>\n",
       "</div>"
      ],
      "text/plain": [
       "     0\n",
       "43  43\n",
       "83  83\n",
       "16  16\n",
       "55  55\n",
       "56  56\n",
       "28  28\n",
       "8    8\n",
       "26  26\n",
       "96  96\n",
       "67  67"
      ]
     },
     "execution_count": 77,
     "metadata": {},
     "output_type": "execute_result"
    }
   ],
   "source": [
    "# (a) Pick a sample of 10 bacteria using your best judgment.\n",
    "# 29, 17, 37, 23 , 51, 69, 82, 99, 97\n",
    "\n",
    "# (b) Pick randomly (i used random number generator).\n",
    "# 61,  41 , 94  , 72  , 60 ,  95  , 81  , 7   ,69   ,19\n",
    "\n",
    "df = pd.DataFrame(range(100))\n",
    "df.sample(10)"
   ]
  },
  {
   "cell_type": "markdown",
   "id": "0058db04",
   "metadata": {},
   "source": [
    "# Exercise 7.2: Popcorn sample"
   ]
  },
  {
   "cell_type": "code",
   "execution_count": 79,
   "id": "cd8d6599",
   "metadata": {},
   "outputs": [
    {
     "name": "stdout",
     "output_type": "stream",
     "text": [
      "Lengths mean: 16.357664233576642\n",
      "sample mean: 12.299999999999999\n"
     ]
    },
    {
     "data": {
      "text/plain": [
       "<matplotlib.collections.PathCollection at 0x7f1bb886bb10>"
      ]
     },
     "execution_count": 79,
     "metadata": {},
     "output_type": "execute_result"
    },
    {
     "data": {
      "image/png": "[encoded data removed]",
      "text/plain": [
       "<Figure size 640x480 with 1 Axes>"
      ]
     },
     "metadata": {},
     "output_type": "display_data"
    }
   ],
   "source": [
    "data = pd.read_csv('popcorn_data.csv')\n",
    "\n",
    "# 1. Compute the mean popcorn length using all your collected data \n",
    "# (the population mean)\n",
    "population_mean = (data['long length '].mean() + data['short length'].mean())/2\n",
    "print(\"Lengths mean:\", population_mean)\n",
    "\n",
    "# 2. Investigate random samples of size n = 10. \n",
    "# To keep the sample fair, we divide the sample for both long and short\n",
    "sample_short = data['short length'].sample(5).mean() \n",
    "sample_long =  data['long length '].sample(5).mean()\n",
    "\n",
    "sample_mean = (sample_short + sample_long)/2\n",
    "print(\"sample mean:\", sample_mean)\n",
    "\n",
    "# (A) \n",
    "# Make one sample and compute the sample mean. Discuss why the sample\n",
    "# mean (probably) deviates from the population mean.?\n",
    "\n",
    "# Every sample is a subset of the population. \n",
    "# Different samples include different numbers.\n",
    "# Some numbers may be above the population mean and some below.\n",
    "# Smaller samples are more likely to deviate from the population mean. \n",
    "# Larger samples tend to give a sample mean closer to the \n",
    "# population mean due to the Law of Large Numbers\n",
    "\n",
    "# (B)\n",
    "# Repeat the above random sampling ten (10) times and append the means in\n",
    "# a list. You can copy-paste code or use a for-loop.\n",
    "means = []\n",
    "for i in range(10): \n",
    "    sample_short = data['short length'].sample(5).mean() \n",
    "    sample_long =  data['long length '].sample(5).mean()\n",
    "    sample_mean = (sample_short + sample_long)/2\n",
    "    means.append(sample_mean)\n",
    "\n",
    "# (c) Plot the mean value for each sample versus sample number.\n",
    "means_series = pd.Series(means)\n",
    "plt.scatter(range(len(means)), means)\n"
   ]
  },
  {
   "cell_type": "code",
   "execution_count": null,
   "id": "0fea879b",
   "metadata": {},
   "outputs": [
    {
     "data": {
      "text/plain": [
       "(array([ 3.,  8.,  8.,  8., 20., 15., 16.,  8., 10.,  4.]),\n",
       " array([10.9 , 11.94, 12.98, 14.02, 15.06, 16.1 , 17.14, 18.18, 19.22,\n",
       "        20.26, 21.3 ]),\n",
       " <BarContainer object of 10 artists>)"
      ]
     },
     "execution_count": 82,
     "metadata": {},
     "output_type": "execute_result"
    },
    {
     "data": {
      "image/png": "[encoded data removed]",
      "text/plain": [
       "<Figure size 640x480 with 1 Axes>"
      ]
     },
     "metadata": {},
     "output_type": "display_data"
    }
   ],
   "source": [
    "# 3 Optional ) Repeat the above question using one hundred (100) random samples\n",
    "# (use a for-loop)\n",
    "means = []\n",
    "for i in range(100): \n",
    "    sample_short = data['short length'].sample(5).mean() \n",
    "    sample_long =  data['long length '].sample(5).mean()\n",
    "    sample_mean = (sample_short + sample_long)/2\n",
    "    means.append(sample_mean)\n",
    "\n",
    "# Plot the mean value for each sample versus sample number.\n",
    "means_series = pd.Series(means)\n",
    "plt.hist(means)\n",
    "\n",
    "# (b) Use the shape of the distribution to discuss how accurate can the popcorn\n",
    "# length can be estimated using n = 10\n",
    "\n",
    "#The estimation of popcorn length using n=10\n",
    "#  is expected to be less accurate because the sampling distribution\n",
    "# of the sample mean, due to the small sample size, will more closely \n",
    "# reflect the population distribution and exhibit greater variability \n",
    "# compared to larger sample sizes. \n"
   ]
  },
  {
   "cell_type": "code",
   "execution_count": null,
   "id": "d3a0869c",
   "metadata": {},
   "outputs": [
    {
     "data": {
      "image/png": "[encoded data removed]",
      "text/plain": [
       "<Figure size 640x480 with 1 Axes>"
      ]
     },
     "metadata": {},
     "output_type": "display_data"
    }
   ],
   "source": [
    "# (Optional ) Make 100 random samples of size n of your popcorn data, where n is\n",
    "# either 1, 10 or 25\n",
    "\n",
    "means_n1 = []\n",
    "means_n10 = []\n",
    "means_n25 = []\n",
    "\n",
    "for i in range(100):\n",
    "    # n = 1\n",
    "    sample_short = data['short length'].sample(1).mean()\n",
    "    sample_long =  data['long length '].sample(1).mean()\n",
    "    means_n1.append((sample_short + sample_long) / 2)\n",
    "\n",
    "    # n = 10\n",
    "    sample_short = data['short length'].sample(10).mean()\n",
    "    sample_long =  data['long length '].sample(10).mean()\n",
    "    means_n10.append((sample_short + sample_long) / 2)\n",
    "\n",
    "    # n = 25\n",
    "    sample_short = data['short length'].sample(25).mean()\n",
    "    sample_long =  data['long length '].sample(25).mean()\n",
    "    means_n25.append((sample_short + sample_long) / 2)\n",
    "\n",
    "plt.hist(means_n1,label=\"n=1\")\n",
    "plt.hist(means_n10,label=\"n=10\")\n",
    "plt.hist(means_n25,label=\"n=25\")\n",
    "\n",
    "plt.xlabel(\"Sample Mean\")\n",
    "plt.ylabel(\"Frequency\")\n",
    "plt.title(\"Distributions of Sample Means\")\n",
    "plt.legend()\n",
    "plt.show()\n",
    "\n",
    "# (c) How does the distribution of your means \n",
    "# (estimates) change as a function of n?\n",
    "\n",
    "# n = 1 → distribution is wide, looks like the original data (lots of spread).\n",
    "# n = 10 → distribution gets narrower, more clustered around the true mean.\n",
    "# n = 25 → even narrower, much less spread, very close to the true mean.\n"
   ]
  },
  {
   "cell_type": "markdown",
   "id": "a50a8515",
   "metadata": {},
   "source": [
    "# Exercise 7.3: Discuss possible bias of your popcorn data"
   ]
  },
  {
   "cell_type": "markdown",
   "id": "440255aa",
   "metadata": {},
   "source": [
    "Tiny broken pieces (crumbs) have been ignored. Deciding when a kernel is “too small” introduces subjective bias and can artificially raise the measured average size.\n",
    "\n",
    "Measuring only one dimension (length or width) of irregularly shaped kernels might not fully capture the true size distribution.\n",
    "\n",
    "Orientation of kernels on the measuring surface could affect consistency.\n",
    "\n",
    "Variability in popping method (microwave hotspots).\n",
    "\n",
    "Settling or crushing of kernels during transport."
   ]
  },
  {
   "cell_type": "markdown",
   "id": "5cac8e6a",
   "metadata": {},
   "source": [
    "# Exercise 7.4: How accurate is a vox-pop survey*"
   ]
  },
  {
   "cell_type": "code",
   "execution_count": 90,
   "id": "5f587d1c",
   "metadata": {},
   "outputs": [
    {
     "data": {
      "text/html": [
       "<div>\n",
       "<style scoped>\n",
       "    .dataframe tbody tr th:only-of-type {\n",
       "        vertical-align: middle;\n",
       "    }\n",
       "\n",
       "    .dataframe tbody tr th {\n",
       "        vertical-align: top;\n",
       "    }\n",
       "\n",
       "    .dataframe thead th {\n",
       "        text-align: right;\n",
       "    }\n",
       "</style>\n",
       "<table border=\"1\" class=\"dataframe\">\n",
       "  <thead>\n",
       "    <tr style=\"text-align: right;\">\n",
       "      <th></th>\n",
       "      <th>sex</th>\n",
       "    </tr>\n",
       "  </thead>\n",
       "  <tbody>\n",
       "    <tr>\n",
       "      <th>67622</th>\n",
       "      <td>female</td>\n",
       "    </tr>\n",
       "    <tr>\n",
       "      <th>3779234</th>\n",
       "      <td>male</td>\n",
       "    </tr>\n",
       "    <tr>\n",
       "      <th>48652</th>\n",
       "      <td>female</td>\n",
       "    </tr>\n",
       "    <tr>\n",
       "      <th>3883145</th>\n",
       "      <td>male</td>\n",
       "    </tr>\n",
       "    <tr>\n",
       "      <th>2571483</th>\n",
       "      <td>female</td>\n",
       "    </tr>\n",
       "  </tbody>\n",
       "</table>\n",
       "</div>"
      ],
      "text/plain": [
       "            sex\n",
       "67622    female\n",
       "3779234    male\n",
       "48652    female\n",
       "3883145    male\n",
       "2571483  female"
      ]
     },
     "execution_count": 90,
     "metadata": {},
     "output_type": "execute_result"
    }
   ],
   "source": [
    "# lot the histogram for the estimate of the percentage of females in Denmark when\n",
    "# the sample size is n = 100, n = 1000, n = 10000 and n = 100000, respectively\n",
    "\n",
    "import pandas as pd\n",
    "df = pd.DataFrame({\n",
    "'sex': ['female'] * 2923000 + ['male'] * 2899700\n",
    "})\n",
    "\n",
    "sample = df.sample(100)\n",
    "sample.head()"
   ]
  }
 ],
 "metadata": {
  "kernelspec": {
   "display_name": "base",
   "language": "python",
   "name": "python3"
  },
  "language_info": {
   "codemirror_mode": {
    "name": "ipython",
    "version": 3
   },
   "file_extension": ".py",
   "mimetype": "text/x-python",
   "name": "python",
   "nbconvert_exporter": "python",
   "pygments_lexer": "ipython3",
   "version": "3.13.5"
  }
 },
 "nbformat": 4,
 "nbformat_minor": 5
}
