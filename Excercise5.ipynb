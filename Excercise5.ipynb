{
 "cells": [
  {
   "cell_type": "markdown",
   "id": "d09e6ec6",
   "metadata": {},
   "source": [
    "# Excercise 5.1 : The median "
   ]
  },
  {
   "cell_type": "code",
   "execution_count": 1,
   "id": "e327fbb3",
   "metadata": {},
   "outputs": [],
   "source": [
    "import statistics"
   ]
  },
  {
   "cell_type": "code",
   "execution_count": 2,
   "id": "691bd3ab",
   "metadata": {},
   "outputs": [
    {
     "data": {
      "text/plain": [
       "[3, 9, 4, 19, 11, 6, 7, 1, 15]"
      ]
     },
     "execution_count": 2,
     "metadata": {},
     "output_type": "execute_result"
    }
   ],
   "source": [
    "data = [\n",
    "    3, 9,4,19,11,6,7,1, 15\n",
    "]\n",
    "\n",
    "data\n",
    "\n",
    "# First we just print the value, but have to sort it before finding median"
   ]
  },
  {
   "cell_type": "code",
   "execution_count": 3,
   "id": "98a5469a",
   "metadata": {},
   "outputs": [
    {
     "data": {
      "text/plain": [
       "[1, 3, 4, 6, 7, 9, 11, 15, 19]"
      ]
     },
     "execution_count": 3,
     "metadata": {},
     "output_type": "execute_result"
    }
   ],
   "source": [
    "Data_sorted = sorted(data)\n",
    "Data_sorted\n",
    "\n",
    "# To find median, you count the length, if odd then the middle value is median, \n",
    "# But if, its even, middle, 1 number to right and left add and divide with 2. "
   ]
  },
  {
   "cell_type": "code",
   "execution_count": 4,
   "id": "575fe4d4",
   "metadata": {},
   "outputs": [
    {
     "data": {
      "text/plain": [
       "7"
      ]
     },
     "execution_count": 4,
     "metadata": {},
     "output_type": "execute_result"
    }
   ],
   "source": [
    "statistics.median(Data_sorted) # With libaries \n"
   ]
  },
  {
   "cell_type": "markdown",
   "id": "1f90766f",
   "metadata": {},
   "source": [
    "## Got Bored, Made my own"
   ]
  },
  {
   "cell_type": "code",
   "execution_count": 5,
   "id": "fbb45aaa",
   "metadata": {},
   "outputs": [
    {
     "name": "stdout",
     "output_type": "stream",
     "text": [
      "6\n"
     ]
    }
   ],
   "source": [
    "# For an even number\n",
    "MiddleTerm = int(len(Data_sorted)/2)\n",
    "# Remember that I can use the middle terms twise because of the indexing\n",
    "MedianEven = int((Data_sorted[MiddleTerm - 1] + Data_sorted[MiddleTerm])/2)\n",
    "print(MedianEven)"
   ]
  },
  {
   "cell_type": "code",
   "execution_count": 6,
   "id": "51521dae",
   "metadata": {},
   "outputs": [],
   "source": [
    "# Just to test if the odd numbers work \n",
    "#data = [\n",
    "  #  3, 9,4,19,11,6,7\n",
    "#]\n",
    "#Data_sorted = sorted(data)\n",
    "#Data_sorted"
   ]
  },
  {
   "cell_type": "code",
   "execution_count": 7,
   "id": "edef43b0",
   "metadata": {},
   "outputs": [
    {
     "data": {
      "text/plain": [
       "7"
      ]
     },
     "execution_count": 7,
     "metadata": {},
     "output_type": "execute_result"
    }
   ],
   "source": [
    "# For odd numbers\n",
    "MiddleTerm_Odd = int((len(Data_sorted) + 1)/2)\n",
    "MiddleTerm_Odd\n",
    "Data_sorted[MiddleTerm_Odd-1] # remember the index start at 0 "
   ]
  },
  {
   "cell_type": "code",
   "execution_count": 8,
   "id": "7a30ecbd",
   "metadata": {},
   "outputs": [
    {
     "name": "stdout",
     "output_type": "stream",
     "text": [
      "7\n"
     ]
    }
   ],
   "source": [
    "# Now the cool part, makeing a if statement \n",
    "if len(Data_sorted) % 2 == 0 : \n",
    "    # For an even number\n",
    "    MiddleTerm = int(len(Data_sorted)/2)\n",
    "    # Remember that I can use the middle terms twise because of the indexing\n",
    "    MedianEven = int((Data_sorted[MiddleTerm - 1] + Data_sorted[MiddleTerm])/2)\n",
    "    print(MedianEven)\n",
    "else: \n",
    "    # For odd numbers\n",
    "    MiddleTerm_Odd = int((len(Data_sorted) + 1)/2)\n",
    "    MiddleTerm_Odd\n",
    "    print(Data_sorted[MiddleTerm_Odd-1])# remember the index start at 0 "
   ]
  },
  {
   "cell_type": "markdown",
   "id": "2192bc02",
   "metadata": {},
   "source": [
    "# Excercise 5.2 : The mean"
   ]
  },
  {
   "cell_type": "code",
   "execution_count": 9,
   "id": "4a643bd5",
   "metadata": {},
   "outputs": [],
   "source": [
    "data = [3,9,4,19,11,6,7,1,15]"
   ]
  },
  {
   "cell_type": "code",
   "execution_count": 10,
   "id": "af707765",
   "metadata": {},
   "outputs": [
    {
     "data": {
      "text/plain": [
       "[1, 3, 4, 6, 7, 9, 11, 15, 19]"
      ]
     },
     "execution_count": 10,
     "metadata": {},
     "output_type": "execute_result"
    }
   ],
   "source": [
    "Data_sorted = sorted(data)\n",
    "Data_sorted"
   ]
  },
  {
   "cell_type": "code",
   "execution_count": 11,
   "id": "163e6f18",
   "metadata": {},
   "outputs": [
    {
     "data": {
      "text/plain": [
       "8.333333333333334"
      ]
     },
     "execution_count": 11,
     "metadata": {},
     "output_type": "execute_result"
    }
   ],
   "source": [
    "sum(Data_sorted)/len(Data_sorted)"
   ]
  },
  {
   "cell_type": "code",
   "execution_count": 12,
   "id": "70a67dc3",
   "metadata": {},
   "outputs": [
    {
     "name": "stdout",
     "output_type": "stream",
     "text": [
      "7\n"
     ]
    }
   ],
   "source": [
    "if len(Data_sorted) % 2 == 0 : \n",
    "    # For an even number\n",
    "    MiddleTerm = int(len(Data_sorted)/2)\n",
    "    # Remember that I can use the middle terms twise because of the indexing\n",
    "    MedianEven = int((Data_sorted[MiddleTerm - 1] + Data_sorted[MiddleTerm])/2)\n",
    "    print(MedianEven)\n",
    "else: \n",
    "    # For odd numbers\n",
    "    MiddleTerm_Odd = int((len(Data_sorted) + 1)/2)\n",
    "    MiddleTerm_Odd\n",
    "    print(Data_sorted[MiddleTerm_Odd-1])# remember the index start at 0 "
   ]
  },
  {
   "cell_type": "markdown",
   "id": "38885020",
   "metadata": {},
   "source": [
    "# Excercise 5.4: Compute the mean with Pandas"
   ]
  },
  {
   "cell_type": "code",
   "execution_count": 13,
   "id": "62e8554e",
   "metadata": {},
   "outputs": [
    {
     "data": {
      "text/plain": [
       "[4, 2, 3, 2, 4]"
      ]
     },
     "execution_count": 13,
     "metadata": {},
     "output_type": "execute_result"
    }
   ],
   "source": [
    "data = [4 , 2 , 3, 2 ,4]\n",
    "data"
   ]
  },
  {
   "cell_type": "code",
   "execution_count": 14,
   "id": "a1bc2456",
   "metadata": {},
   "outputs": [
    {
     "data": {
      "text/plain": [
       "3.0"
      ]
     },
     "execution_count": 14,
     "metadata": {},
     "output_type": "execute_result"
    }
   ],
   "source": [
    "sum(data)/len(data)"
   ]
  },
  {
   "cell_type": "markdown",
   "id": "b7e818da",
   "metadata": {},
   "source": [
    "# Excercise 5.6 : The Quartiles and a box plot "
   ]
  },
  {
   "cell_type": "code",
   "execution_count": 15,
   "id": "ce234e16",
   "metadata": {},
   "outputs": [],
   "source": [
    "data = [3,9,4,19,11,6,7,1,15]"
   ]
  },
  {
   "cell_type": "code",
   "execution_count": 16,
   "id": "809dc227",
   "metadata": {},
   "outputs": [],
   "source": [
    "# 1 \n",
    "\n",
    "# n, means the total data, which is 9. So n = 9"
   ]
  },
  {
   "cell_type": "code",
   "execution_count": 17,
   "id": "a58edd11",
   "metadata": {},
   "outputs": [
    {
     "data": {
      "text/plain": [
       "[1, 3, 4, 6, 7, 9, 11, 15, 19]"
      ]
     },
     "execution_count": 17,
     "metadata": {},
     "output_type": "execute_result"
    }
   ],
   "source": [
    "#2 \n",
    "\n",
    "Data_sorted = sorted(data)\n",
    "Data_sorted"
   ]
  },
  {
   "cell_type": "code",
   "execution_count": 18,
   "id": "0d9cb779",
   "metadata": {},
   "outputs": [
    {
     "name": "stdout",
     "output_type": "stream",
     "text": [
      "7\n"
     ]
    }
   ],
   "source": [
    "#3 \n",
    "if len(Data_sorted) % 2 == 0 : \n",
    "    # For an even number\n",
    "    MiddleTerm = int(len(Data_sorted)/2)\n",
    "    # Remember that I can use the middle terms twise because of the indexing\n",
    "    MedianEven = int((Data_sorted[MiddleTerm - 1] + Data_sorted[MiddleTerm])/2)\n",
    "    print(MedianEven)\n",
    "else: \n",
    "    # For odd numbers\n",
    "    MiddleTerm_Odd = int((len(Data_sorted) + 1)/2)\n",
    "    MiddleTerm_Odd\n",
    "    print(Data_sorted[MiddleTerm_Odd-1])# remember the index start at 0 "
   ]
  },
  {
   "cell_type": "code",
   "execution_count": 19,
   "id": "9ae480d0",
   "metadata": {},
   "outputs": [
    {
     "data": {
      "text/plain": [
       "1"
      ]
     },
     "execution_count": 19,
     "metadata": {},
     "output_type": "execute_result"
    }
   ],
   "source": [
    "# 4\n",
    "min(data)"
   ]
  },
  {
   "cell_type": "code",
   "execution_count": 20,
   "id": "00984cca",
   "metadata": {},
   "outputs": [
    {
     "data": {
      "text/plain": [
       "19"
      ]
     },
     "execution_count": 20,
     "metadata": {},
     "output_type": "execute_result"
    }
   ],
   "source": [
    "#5 \n",
    "max(data)"
   ]
  },
  {
   "cell_type": "markdown",
   "id": "10b4f53f",
   "metadata": {},
   "source": [
    "The range of the data is from 1 to 19, as the data max is 19 and min is 1 "
   ]
  },
  {
   "cell_type": "code",
   "execution_count": 21,
   "id": "944553cf",
   "metadata": {},
   "outputs": [],
   "source": [
    "import pandas as pd\n",
    "import numpy as np\n",
    "import matplotlib.pyplot as plt \n"
   ]
  },
  {
   "cell_type": "code",
   "execution_count": 22,
   "id": "039ceec8",
   "metadata": {},
   "outputs": [
    {
     "data": {
      "text/plain": [
       "np.float64(4.0)"
      ]
     },
     "execution_count": 22,
     "metadata": {},
     "output_type": "execute_result"
    }
   ],
   "source": [
    "# 7\n",
    "q1 = np.quantile(data,0.25)\n",
    "q1"
   ]
  },
  {
   "cell_type": "code",
   "execution_count": 23,
   "id": "da970c43",
   "metadata": {},
   "outputs": [
    {
     "data": {
      "text/plain": [
       "np.float64(11.0)"
      ]
     },
     "execution_count": 23,
     "metadata": {},
     "output_type": "execute_result"
    }
   ],
   "source": [
    "# 8 \n",
    "q3 = np.quantile(data,0.75)\n",
    "q3"
   ]
  },
  {
   "cell_type": "code",
   "execution_count": 24,
   "id": "fd9e34dc",
   "metadata": {},
   "outputs": [
    {
     "data": {
      "text/plain": [
       "np.float64(7.0)"
      ]
     },
     "execution_count": 24,
     "metadata": {},
     "output_type": "execute_result"
    }
   ],
   "source": [
    "# 9 \n",
    "q3 - q1"
   ]
  },
  {
   "cell_type": "code",
   "execution_count": 25,
   "id": "540d4a88",
   "metadata": {},
   "outputs": [
    {
     "data": {
      "text/plain": [
       "{'whiskers': [<matplotlib.lines.Line2D at 0x779b9cc4e1e0>,\n",
       "  <matplotlib.lines.Line2D at 0x779b9cc4e510>],\n",
       " 'caps': [<matplotlib.lines.Line2D at 0x779b9cc4e840>,\n",
       "  <matplotlib.lines.Line2D at 0x779b9cc4eb40>],\n",
       " 'boxes': [<matplotlib.lines.Line2D at 0x779b9cc4df70>],\n",
       " 'medians': [<matplotlib.lines.Line2D at 0x779b9cc4ee70>],\n",
       " 'fliers': [<matplotlib.lines.Line2D at 0x779b9cc4f1a0>],\n",
       " 'means': []}"
      ]
     },
     "execution_count": 25,
     "metadata": {},
     "output_type": "execute_result"
    },
    {
     "data": {
      "image/png": "[encoded data removed]",
      "text/plain": [
       "<Figure size 640x480 with 1 Axes>"
      ]
     },
     "metadata": {},
     "output_type": "display_data"
    }
   ],
   "source": [
    "plt.boxplot(data)"
   ]
  },
  {
   "cell_type": "markdown",
   "id": "f798560f",
   "metadata": {},
   "source": [
    "# Excersice 5.8 : Median and mean of numerical data "
   ]
  },
  {
   "cell_type": "code",
   "execution_count": 26,
   "id": "7d0053cf",
   "metadata": {},
   "outputs": [],
   "source": [
    "# 1 \n",
    "\n",
    "# table 5.7, n = 5\n",
    "# For table 5.8 we got n = 10 "
   ]
  },
  {
   "cell_type": "code",
   "execution_count": 27,
   "id": "8249c7a4",
   "metadata": {},
   "outputs": [],
   "source": [
    "table5_7 = [6.3 , 5.9 , 7.0 , 6.9 , 5.9]\n",
    "table5_8 = [14, 15, 13 , 21 , 15 , 14 , 26 , 16, 20, 13]"
   ]
  },
  {
   "cell_type": "code",
   "execution_count": 28,
   "id": "f337286d",
   "metadata": {},
   "outputs": [
    {
     "data": {
      "text/plain": [
       "5.9"
      ]
     },
     "execution_count": 28,
     "metadata": {},
     "output_type": "execute_result"
    }
   ],
   "source": [
    "# 2 \n",
    "min(table5_7)"
   ]
  },
  {
   "cell_type": "code",
   "execution_count": 29,
   "id": "a2930fd0",
   "metadata": {},
   "outputs": [
    {
     "data": {
      "text/plain": [
       "7.0"
      ]
     },
     "execution_count": 29,
     "metadata": {},
     "output_type": "execute_result"
    }
   ],
   "source": [
    "(max(table5_7))"
   ]
  },
  {
   "cell_type": "code",
   "execution_count": 30,
   "id": "25f8ea33",
   "metadata": {},
   "outputs": [
    {
     "data": {
      "text/plain": [
       "13"
      ]
     },
     "execution_count": 30,
     "metadata": {},
     "output_type": "execute_result"
    }
   ],
   "source": [
    "min(table5_8)"
   ]
  },
  {
   "cell_type": "code",
   "execution_count": 31,
   "id": "6c379cfa",
   "metadata": {},
   "outputs": [
    {
     "data": {
      "text/plain": [
       "26"
      ]
     },
     "execution_count": 31,
     "metadata": {},
     "output_type": "execute_result"
    }
   ],
   "source": [
    "max(table5_8)"
   ]
  },
  {
   "cell_type": "code",
   "execution_count": 32,
   "id": "e51a5a94",
   "metadata": {},
   "outputs": [
    {
     "data": {
      "text/plain": [
       "6.4"
      ]
     },
     "execution_count": 32,
     "metadata": {},
     "output_type": "execute_result"
    }
   ],
   "source": [
    "#3 : The mean\n",
    "sum(table5_7)/len(table5_7)"
   ]
  },
  {
   "cell_type": "code",
   "execution_count": 33,
   "id": "b1fbac17",
   "metadata": {},
   "outputs": [
    {
     "data": {
      "text/plain": [
       "16.7"
      ]
     },
     "execution_count": 33,
     "metadata": {},
     "output_type": "execute_result"
    }
   ],
   "source": [
    "sum(table5_8)/len(table5_8)"
   ]
  },
  {
   "cell_type": "code",
   "execution_count": 34,
   "id": "8f5db579",
   "metadata": {},
   "outputs": [],
   "source": [
    "# the quartitles: q1 and q3\n",
    "\n",
    "q1_table57 = np.quantile(table5_7, 0.25)  # The q1\n",
    "q2_table57 = np.quantile(table5_7, 0.75)  # The q2"
   ]
  },
  {
   "cell_type": "code",
   "execution_count": 35,
   "id": "cb62d963",
   "metadata": {},
   "outputs": [
    {
     "data": {
      "text/plain": [
       "np.float64(5.9)"
      ]
     },
     "execution_count": 35,
     "metadata": {},
     "output_type": "execute_result"
    }
   ],
   "source": [
    "q1_table57"
   ]
  },
  {
   "cell_type": "code",
   "execution_count": 36,
   "id": "fb5e788e",
   "metadata": {},
   "outputs": [
    {
     "data": {
      "text/plain": [
       "np.float64(6.9)"
      ]
     },
     "execution_count": 36,
     "metadata": {},
     "output_type": "execute_result"
    }
   ],
   "source": [
    "q2_table57"
   ]
  },
  {
   "cell_type": "code",
   "execution_count": 37,
   "id": "b02269bc",
   "metadata": {},
   "outputs": [],
   "source": [
    "q1_table58 = np.quantile(table5_8, 0.25)  # The q1\n",
    "q2_table58 = np.quantile(table5_8, 0.75)  # The q2"
   ]
  },
  {
   "cell_type": "code",
   "execution_count": 38,
   "id": "f6bcc561",
   "metadata": {},
   "outputs": [
    {
     "data": {
      "text/plain": [
       "np.float64(14.0)"
      ]
     },
     "execution_count": 38,
     "metadata": {},
     "output_type": "execute_result"
    }
   ],
   "source": [
    "q1_table58"
   ]
  },
  {
   "cell_type": "code",
   "execution_count": 39,
   "id": "b94f933e",
   "metadata": {},
   "outputs": [
    {
     "data": {
      "text/plain": [
       "np.float64(19.0)"
      ]
     },
     "execution_count": 39,
     "metadata": {},
     "output_type": "execute_result"
    }
   ],
   "source": [
    "q2_table58"
   ]
  },
  {
   "cell_type": "code",
   "execution_count": 40,
   "id": "b6268c09",
   "metadata": {},
   "outputs": [
    {
     "data": {
      "text/plain": [
       "np.float64(1.0)"
      ]
     },
     "execution_count": 40,
     "metadata": {},
     "output_type": "execute_result"
    }
   ],
   "source": [
    "#6 The IQR \n",
    "\n",
    "# For table 5.7\n",
    "q2_table57-q1_table57"
   ]
  },
  {
   "cell_type": "code",
   "execution_count": 41,
   "id": "f54f76a0",
   "metadata": {},
   "outputs": [
    {
     "data": {
      "text/plain": [
       "np.float64(5.0)"
      ]
     },
     "execution_count": 41,
     "metadata": {},
     "output_type": "execute_result"
    }
   ],
   "source": [
    "# For table 5.8\n",
    "q2_table58 - q1_table58"
   ]
  },
  {
   "cell_type": "code",
   "execution_count": 42,
   "id": "15026940",
   "metadata": {},
   "outputs": [],
   "source": [
    "# 7\n",
    "# ???????????"
   ]
  },
  {
   "cell_type": "code",
   "execution_count": 43,
   "id": "124d2026",
   "metadata": {},
   "outputs": [
    {
     "data": {
      "text/plain": [
       "{'whiskers': [<matplotlib.lines.Line2D at 0x779b9c9bfd70>,\n",
       "  <matplotlib.lines.Line2D at 0x779b9c9f4560>],\n",
       " 'caps': [<matplotlib.lines.Line2D at 0x779b9c9f4890>,\n",
       "  <matplotlib.lines.Line2D at 0x779b9c9f4aa0>],\n",
       " 'boxes': [<matplotlib.lines.Line2D at 0x779b9c9bff50>],\n",
       " 'medians': [<matplotlib.lines.Line2D at 0x779b9c9f4d70>],\n",
       " 'fliers': [<matplotlib.lines.Line2D at 0x779b9c9f5040>],\n",
       " 'means': []}"
      ]
     },
     "execution_count": 43,
     "metadata": {},
     "output_type": "execute_result"
    },
    {
     "data": {
      "image/png": "[encoded data removed]",
      "text/plain": [
       "<Figure size 640x480 with 1 Axes>"
      ]
     },
     "metadata": {},
     "output_type": "display_data"
    }
   ],
   "source": [
    "# 8 \n",
    "plt.boxplot(table5_7)"
   ]
  },
  {
   "cell_type": "code",
   "execution_count": 44,
   "id": "5e6bcde8",
   "metadata": {},
   "outputs": [
    {
     "data": {
      "text/plain": [
       "{'whiskers': [<matplotlib.lines.Line2D at 0x779b9ca3ad20>,\n",
       "  <matplotlib.lines.Line2D at 0x779b9ca3aff0>],\n",
       " 'caps': [<matplotlib.lines.Line2D at 0x779b9ca3b2c0>,\n",
       "  <matplotlib.lines.Line2D at 0x779b9ca3b5f0>],\n",
       " 'boxes': [<matplotlib.lines.Line2D at 0x779b9ca3aa50>],\n",
       " 'medians': [<matplotlib.lines.Line2D at 0x779b9ca3b8f0>],\n",
       " 'fliers': [<matplotlib.lines.Line2D at 0x779b9ca3bbc0>],\n",
       " 'means': []}"
      ]
     },
     "execution_count": 44,
     "metadata": {},
     "output_type": "execute_result"
    },
    {
     "data": {
      "image/png": "[encoded data removed]",
      "text/plain": [
       "<Figure size 640x480 with 1 Axes>"
      ]
     },
     "metadata": {},
     "output_type": "display_data"
    }
   ],
   "source": [
    "plt.boxplot(table5_8)"
   ]
  },
  {
   "cell_type": "markdown",
   "id": "7ab82f18",
   "metadata": {},
   "source": [
    "# Exercise 5.9: Compute the variance with Pandas"
   ]
  },
  {
   "cell_type": "code",
   "execution_count": 45,
   "id": "fb3e2870",
   "metadata": {},
   "outputs": [],
   "source": [
    "import pandas as pd"
   ]
  },
  {
   "cell_type": "code",
   "execution_count": 46,
   "id": "760259bd",
   "metadata": {},
   "outputs": [
    {
     "data": {
      "text/plain": [
       "3.0"
      ]
     },
     "execution_count": 46,
     "metadata": {},
     "output_type": "execute_result"
    }
   ],
   "source": [
    "data = [4 , 2 , 3 , 2 , 4]\n",
    "sum(data)/len(data)"
   ]
  },
  {
   "cell_type": "code",
   "execution_count": 47,
   "id": "c7546aa8",
   "metadata": {},
   "outputs": [
    {
     "data": {
      "text/plain": [
       "0    4\n",
       "1    2\n",
       "2    3\n",
       "3    2\n",
       "4    4\n",
       "dtype: int64"
      ]
     },
     "execution_count": 47,
     "metadata": {},
     "output_type": "execute_result"
    }
   ],
   "source": [
    "s1 = pd.Series(data)\n",
    "\n",
    "s1"
   ]
  },
  {
   "cell_type": "code",
   "execution_count": 48,
   "id": "b08866a5",
   "metadata": {},
   "outputs": [
    {
     "data": {
      "text/plain": [
       "np.float64(1.0)"
      ]
     },
     "execution_count": 48,
     "metadata": {},
     "output_type": "execute_result"
    }
   ],
   "source": [
    "s1.var()"
   ]
  },
  {
   "cell_type": "markdown",
   "id": "e5ef5b75",
   "metadata": {},
   "source": [
    "# Exercise 5.10: Summary statistics of popcorn data"
   ]
  },
  {
   "cell_type": "code",
   "execution_count": 49,
   "id": "06f47537",
   "metadata": {},
   "outputs": [
    {
     "data": {
      "text/html": [
       "<div>\n",
       "<style scoped>\n",
       "    .dataframe tbody tr th:only-of-type {\n",
       "        vertical-align: middle;\n",
       "    }\n",
       "\n",
       "    .dataframe tbody tr th {\n",
       "        vertical-align: top;\n",
       "    }\n",
       "\n",
       "    .dataframe thead th {\n",
       "        text-align: right;\n",
       "    }\n",
       "</style>\n",
       "<table border=\"1\" class=\"dataframe\">\n",
       "  <thead>\n",
       "    <tr style=\"text-align: right;\">\n",
       "      <th></th>\n",
       "      <th>Kernal id</th>\n",
       "      <th>popped</th>\n",
       "      <th>long length</th>\n",
       "      <th>short length</th>\n",
       "      <th>branch</th>\n",
       "    </tr>\n",
       "  </thead>\n",
       "  <tbody>\n",
       "    <tr>\n",
       "      <th>0</th>\n",
       "      <td>1</td>\n",
       "      <td>True</td>\n",
       "      <td>30</td>\n",
       "      <td>25</td>\n",
       "      <td>2</td>\n",
       "    </tr>\n",
       "    <tr>\n",
       "      <th>1</th>\n",
       "      <td>2</td>\n",
       "      <td>True</td>\n",
       "      <td>35</td>\n",
       "      <td>10</td>\n",
       "      <td>3</td>\n",
       "    </tr>\n",
       "    <tr>\n",
       "      <th>2</th>\n",
       "      <td>3</td>\n",
       "      <td>True</td>\n",
       "      <td>37</td>\n",
       "      <td>20</td>\n",
       "      <td>2</td>\n",
       "    </tr>\n",
       "    <tr>\n",
       "      <th>3</th>\n",
       "      <td>4</td>\n",
       "      <td>True</td>\n",
       "      <td>21</td>\n",
       "      <td>18</td>\n",
       "      <td>2</td>\n",
       "    </tr>\n",
       "    <tr>\n",
       "      <th>4</th>\n",
       "      <td>5</td>\n",
       "      <td>True</td>\n",
       "      <td>18</td>\n",
       "      <td>14</td>\n",
       "      <td>1</td>\n",
       "    </tr>\n",
       "    <tr>\n",
       "      <th>...</th>\n",
       "      <td>...</td>\n",
       "      <td>...</td>\n",
       "      <td>...</td>\n",
       "      <td>...</td>\n",
       "      <td>...</td>\n",
       "    </tr>\n",
       "    <tr>\n",
       "      <th>132</th>\n",
       "      <td>133</td>\n",
       "      <td>False</td>\n",
       "      <td>7</td>\n",
       "      <td>4</td>\n",
       "      <td>0</td>\n",
       "    </tr>\n",
       "    <tr>\n",
       "      <th>133</th>\n",
       "      <td>134</td>\n",
       "      <td>False</td>\n",
       "      <td>7</td>\n",
       "      <td>7</td>\n",
       "      <td>0</td>\n",
       "    </tr>\n",
       "    <tr>\n",
       "      <th>134</th>\n",
       "      <td>135</td>\n",
       "      <td>False</td>\n",
       "      <td>6</td>\n",
       "      <td>6</td>\n",
       "      <td>0</td>\n",
       "    </tr>\n",
       "    <tr>\n",
       "      <th>135</th>\n",
       "      <td>136</td>\n",
       "      <td>True</td>\n",
       "      <td>11</td>\n",
       "      <td>10</td>\n",
       "      <td>1</td>\n",
       "    </tr>\n",
       "    <tr>\n",
       "      <th>136</th>\n",
       "      <td>137</td>\n",
       "      <td>False</td>\n",
       "      <td>6</td>\n",
       "      <td>4</td>\n",
       "      <td>0</td>\n",
       "    </tr>\n",
       "  </tbody>\n",
       "</table>\n",
       "<p>137 rows × 5 columns</p>\n",
       "</div>"
      ],
      "text/plain": [
       "     Kernal id   popped   long length   short length  branch \n",
       "0             1     True            30            25        2\n",
       "1             2     True            35            10        3\n",
       "2             3     True            37            20        2\n",
       "3             4     True            21            18        2\n",
       "4             5     True            18            14        1\n",
       "..          ...      ...           ...           ...      ...\n",
       "132         133    False             7             4        0\n",
       "133         134    False             7             7        0\n",
       "134         135    False             6             6        0\n",
       "135         136     True            11            10        1\n",
       "136         137    False             6             4        0\n",
       "\n",
       "[137 rows x 5 columns]"
      ]
     },
     "execution_count": 49,
     "metadata": {},
     "output_type": "execute_result"
    }
   ],
   "source": [
    "df = pd.read_csv('popcorn_data.csv')\n",
    "df"
   ]
  },
  {
   "cell_type": "code",
   "execution_count": 50,
   "id": "da2a2b9d",
   "metadata": {},
   "outputs": [
    {
     "data": {
      "image/png": "[encoded data removed]",
      "text/plain": [
       "<Figure size 640x480 with 1 Axes>"
      ]
     },
     "metadata": {},
     "output_type": "display_data"
    }
   ],
   "source": [
    "long_length = df['long length ']\n",
    "short_length = df['short length']\n",
    "\n",
    "plt.hist([long_length, short_length], color=['r','b'])\n",
    "plt.show()"
   ]
  },
  {
   "cell_type": "code",
   "execution_count": 51,
   "id": "d4a8a180",
   "metadata": {},
   "outputs": [
    {
     "data": {
      "text/plain": [
       "count    137.000000\n",
       "mean      21.416058\n",
       "std        9.654047\n",
       "min        5.000000\n",
       "25%       15.000000\n",
       "50%       22.000000\n",
       "75%       28.000000\n",
       "max       60.000000\n",
       "Name: long length , dtype: float64"
      ]
     },
     "execution_count": 51,
     "metadata": {},
     "output_type": "execute_result"
    }
   ],
   "source": [
    "# 2. Calculate the mean and the median of both the short and long dimensions.\n",
    "\n",
    "# 2 and 3 \n",
    "long_length.describe()\n"
   ]
  },
  {
   "cell_type": "code",
   "execution_count": 52,
   "id": "2baa6e63",
   "metadata": {},
   "outputs": [
    {
     "data": {
      "text/plain": [
       "13"
      ]
     },
     "execution_count": 52,
     "metadata": {},
     "output_type": "execute_result"
    }
   ],
   "source": [
    "# IQR for long length\n",
    "Q3_long = 28\n",
    "Q1_long = 15\n",
    "IQR_long = Q3_long - Q1_long\n",
    "IQR_long"
   ]
  },
  {
   "cell_type": "code",
   "execution_count": 53,
   "id": "0f91f24b",
   "metadata": {},
   "outputs": [
    {
     "data": {
      "text/plain": [
       "count    137.000000\n",
       "mean      11.299270\n",
       "std        5.380199\n",
       "min        2.000000\n",
       "25%        6.000000\n",
       "50%       12.000000\n",
       "75%       15.000000\n",
       "max       25.000000\n",
       "Name: short length, dtype: float64"
      ]
     },
     "execution_count": 53,
     "metadata": {},
     "output_type": "execute_result"
    }
   ],
   "source": [
    "short_length.describe()"
   ]
  },
  {
   "cell_type": "code",
   "execution_count": 54,
   "id": "ec41e327",
   "metadata": {},
   "outputs": [
    {
     "data": {
      "text/plain": [
       "9"
      ]
     },
     "execution_count": 54,
     "metadata": {},
     "output_type": "execute_result"
    }
   ],
   "source": [
    "\n",
    "Q3_short = 15\n",
    "Q1_short = 6 \n",
    "IQR_short = Q3_short - Q1_short\n",
    "IQR_short"
   ]
  },
  {
   "cell_type": "code",
   "execution_count": 55,
   "id": "5ab2500d",
   "metadata": {},
   "outputs": [
    {
     "data": {
      "text/plain": [
       "28.5"
      ]
     },
     "execution_count": 55,
     "metadata": {},
     "output_type": "execute_result"
    }
   ],
   "source": [
    "# 5. Calculate the fences (Q ± 1.5IQR) of long dimensions and determine \n",
    "# whether there are any outliers\n",
    "\n",
    "Q3_short + 1.5 * IQR_short\n"
   ]
  },
  {
   "cell_type": "code",
   "execution_count": 56,
   "id": "e231e4dc",
   "metadata": {},
   "outputs": [
    {
     "data": {
      "text/plain": [
       "-7.5"
      ]
     },
     "execution_count": 56,
     "metadata": {},
     "output_type": "execute_result"
    }
   ],
   "source": [
    "Q1_short - 1.5 * IQR_short"
   ]
  },
  {
   "cell_type": "code",
   "execution_count": 57,
   "id": "a32390d5",
   "metadata": {},
   "outputs": [
    {
     "data": {
      "text/plain": [
       "47.5"
      ]
     },
     "execution_count": 57,
     "metadata": {},
     "output_type": "execute_result"
    }
   ],
   "source": [
    "Q3_long + 1.5 * IQR_long\n"
   ]
  },
  {
   "cell_type": "code",
   "execution_count": 58,
   "id": "a39c46f4",
   "metadata": {},
   "outputs": [
    {
     "data": {
      "text/plain": [
       "-4.5"
      ]
     },
     "execution_count": 58,
     "metadata": {},
     "output_type": "execute_result"
    }
   ],
   "source": [
    "Q1_long - 1.5 * IQR_long\n",
    "\n",
    "# Check in the dataframe\n"
   ]
  },
  {
   "cell_type": "code",
   "execution_count": 59,
   "id": "4b72f098",
   "metadata": {},
   "outputs": [
    {
     "name": "stderr",
     "output_type": "stream",
     "text": [
      "/tmp/ipykernel_9789/4113430773.py:11: MatplotlibDeprecationWarning: The 'labels' parameter of boxplot() has been renamed 'tick_labels' since Matplotlib 3.9; support for the old name will be dropped in 3.11.\n",
      "  plt.boxplot([long_length, short_length], labels=['Long length (mm)', 'Short length (mm)'])\n"
     ]
    },
    {
     "data": {
      "text/plain": [
       "{'whiskers': [<matplotlib.lines.Line2D at 0x779b9cb7a210>,\n",
       "  <matplotlib.lines.Line2D at 0x779b9cb7a4e0>,\n",
       "  <matplotlib.lines.Line2D at 0x779b9cb7b560>,\n",
       "  <matplotlib.lines.Line2D at 0x779b9cb7b860>],\n",
       " 'caps': [<matplotlib.lines.Line2D at 0x779b9cb7a780>,\n",
       "  <matplotlib.lines.Line2D at 0x779b9cb7a990>,\n",
       "  <matplotlib.lines.Line2D at 0x779b9cb7bb30>,\n",
       "  <matplotlib.lines.Line2D at 0x779b9cb7be00>],\n",
       " 'boxes': [<matplotlib.lines.Line2D at 0x779b9cb79fa0>,\n",
       "  <matplotlib.lines.Line2D at 0x779b9cb7b230>],\n",
       " 'medians': [<matplotlib.lines.Line2D at 0x779b9cb7ac60>,\n",
       "  <matplotlib.lines.Line2D at 0x779b9cba8110>],\n",
       " 'fliers': [<matplotlib.lines.Line2D at 0x779b9cb7af60>,\n",
       "  <matplotlib.lines.Line2D at 0x779b9cba8410>],\n",
       " 'means': []}"
      ]
     },
     "execution_count": 59,
     "metadata": {},
     "output_type": "execute_result"
    },
    {
     "data": {
      "image/png": "[encoded data removed]",
      "text/plain": [
       "<Figure size 640x480 with 1 Axes>"
      ]
     },
     "metadata": {},
     "output_type": "display_data"
    }
   ],
   "source": [
    "import matplotlib.pyplot as plt\n",
    "import numpy as np\n",
    "\n",
    "# 6 \n",
    "\n",
    "# Got two data set\n",
    "long_length = df['long length ']\n",
    "short_length = df['short length']\n",
    "\n",
    "# plotting data \n",
    "plt.boxplot([long_length, short_length], labels=['Long length (mm)', 'Short length (mm)'])\n"
   ]
  },
  {
   "cell_type": "code",
   "execution_count": null,
   "id": "f4e09f57",
   "metadata": {},
   "outputs": [],
   "source": []
  }
 ],
 "metadata": {
  "kernelspec": {
   "display_name": ".venv (3.12.3)",
   "language": "python",
   "name": "python3"
  },
  "language_info": {
   "codemirror_mode": {
    "name": "ipython",
    "version": 3
   },
   "file_extension": ".py",
   "mimetype": "text/x-python",
   "name": "python",
   "nbconvert_exporter": "python",
   "pygments_lexer": "ipython3",
   "version": "3.12.3"
  }
 },
 "nbformat": 4,
 "nbformat_minor": 5
}
