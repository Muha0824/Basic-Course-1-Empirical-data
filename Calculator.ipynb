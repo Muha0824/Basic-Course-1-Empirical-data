{
 "cells": [
  {
   "cell_type": "code",
   "execution_count": null,
   "id": "60db7da2",
   "metadata": {},
   "outputs": [
    {
     "data": {
      "text/plain": [
       "3.3000000000000003"
      ]
     },
     "execution_count": 5,
     "metadata": {},
     "output_type": "execute_result"
    }
   ],
   "source": [
    "3.2 + 0.1 \n"
   ]
  },
  {
   "cell_type": "code",
   "execution_count": 8,
   "id": "475a68ae",
   "metadata": {},
   "outputs": [
    {
     "data": {
      "text/plain": [
       "'text text'"
      ]
     },
     "execution_count": 8,
     "metadata": {},
     "output_type": "execute_result"
    }
   ],
   "source": [
    "\"text\" + \" text\""
   ]
  },
  {
   "cell_type": "code",
   "execution_count": 14,
   "id": "f55da09f",
   "metadata": {},
   "outputs": [
    {
     "name": "stdout",
     "output_type": "stream",
     "text": [
      "<class 'float'>\n",
      "<class 'int'>\n",
      "<class 'bool'>\n",
      "<class 'str'>\n"
     ]
    }
   ],
   "source": [
    "print(type(3 + 0.1))\n",
    "print(type(3))\n",
    "print(type(3<1))\n",
    "print(type(\"text\"*2))"
   ]
  },
  {
   "cell_type": "code",
   "execution_count": 19,
   "id": "8a89cc63",
   "metadata": {},
   "outputs": [],
   "source": [
    "# Variables\n",
    "eyes = 0 "
   ]
  },
  {
   "cell_type": "code",
   "execution_count": 20,
   "id": "2100da11",
   "metadata": {},
   "outputs": [
    {
     "data": {
      "text/plain": [
       "1"
      ]
     },
     "execution_count": 20,
     "metadata": {},
     "output_type": "execute_result"
    }
   ],
   "source": [
    "eyes = eyes + 1 \n",
    "eyes"
   ]
  },
  {
   "cell_type": "code",
   "execution_count": null,
   "id": "a67f15e1",
   "metadata": {},
   "outputs": [],
   "source": []
  }
 ],
 "metadata": {
  "kernelspec": {
   "display_name": ".venv (3.12.3)",
   "language": "python",
   "name": "python3"
  },
  "language_info": {
   "codemirror_mode": {
    "name": "ipython",
    "version": 3
   },
   "file_extension": ".py",
   "mimetype": "text/x-python",
   "name": "python",
   "nbconvert_exporter": "python",
   "pygments_lexer": "ipython3",
   "version": "3.12.3"
  }
 },
 "nbformat": 4,
 "nbformat_minor": 5
}
